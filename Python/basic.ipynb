{
 "cells": [
  {
   "cell_type": "code",
   "execution_count": 2,
   "metadata": {},
   "outputs": [
    {
     "name": "stdout",
     "output_type": "stream",
     "text": [
      "10\n",
      "5\n",
      "105\n",
      "Value of a is 10 and b is 5\n"
     ]
    }
   ],
   "source": [
    "#Variable Declaration and Initialization\n",
    "a=10\n",
    "b=5\n",
    "print(a)\n",
    "print(b)\n",
    "#In a Single Line\n",
    "print(a, end=\"\")\n",
    "print(b)\n",
    "#Formatted Way\n",
    "print(f'Value of a is {a} and b is {b}')"
   ]
  },
  {
   "cell_type": "code",
   "execution_count": 1,
   "metadata": {},
   "outputs": [
    {
     "name": "stdout",
     "output_type": "stream",
     "text": [
      "<class 'int'>\n",
      "<class 'float'>\n",
      "<class 'complex'>\n",
      "<class 'str'>\n",
      "<class 'str'>\n",
      "<class 'str'>\n",
      "<class 'list'>\n",
      "<class 'tuple'>\n",
      "<class 'dict'>\n",
      "<class 'bool'>\n",
      "<class 'set'>\n"
     ]
    }
   ],
   "source": [
    "#Data Types\n",
    "#Numbers\n",
    "a=100\n",
    "f = 1.2\n",
    "c = 1+2.2j\n",
    "#Sequence\n",
    "name = 'Ashish'\n",
    "sname = \"Chaudhary\"\n",
    "multiline = \"Multi\\\n",
    "                line\"\n",
    "li = [\"Hi\",2,2.5]\n",
    "tu = (\"Hello\",5)\n",
    "dict = {1:\"Python\",2:\"Java\"}\n",
    "#Boolean\n",
    "bool = True\n",
    "#Set\n",
    "set1 = {2,'Ashish',5}\n",
    "print(type(a))\n",
    "print(type(f))\n",
    "print(type(c))\n",
    "print(type(name))\n",
    "print(type(sname))\n",
    "print(type(multiline))\n",
    "print(type(li))\n",
    "print(type(tu))\n",
    "print(type(dict))\n",
    "print(type(bool))\n",
    "print(type(set1))"
   ]
  },
  {
   "cell_type": "code",
   "execution_count": 10,
   "metadata": {},
   "outputs": [
    {
     "name": "stdout",
     "output_type": "stream",
     "text": [
      "Arithmetic Operators\n",
      "12\n",
      "8\n",
      "20\n",
      "5.0\n",
      "5\n",
      "0\n",
      "100\n",
      "Comparision Operators\n",
      "False\n",
      "True\n",
      "False\n",
      "True\n",
      "False\n",
      "True\n",
      "Assignment Operators\n",
      "50\n",
      "60\n",
      "40\n",
      "80\n",
      "2\n",
      "4\n",
      "2\n",
      "Bitwise Operators\n",
      "2\n",
      "10\n",
      "8\n",
      "-11\n",
      "40\n",
      "2\n",
      "MemberShip Operator\n",
      "True\n",
      "True\n",
      "Identity Operator\n",
      "True\n",
      "True\n",
      "False\n",
      "True\n"
     ]
    }
   ],
   "source": [
    "#Operators\n",
    "#Arithmetic Operators\n",
    "a=10\n",
    "b=2\n",
    "print(\"Arithmetic Operators\")\n",
    "print(a+b)\n",
    "print(a-b)\n",
    "print(a*b)\n",
    "print(a/b)\n",
    "print(a//b)\n",
    "print(a%b)\n",
    "print(a**b)\n",
    "#Comparision Operators\n",
    "print(\"Comparision Operators\")\n",
    "print(a==b)\n",
    "print(a!=b)\n",
    "print(a<b)\n",
    "print(a>b)\n",
    "print(a<=b)\n",
    "print(a>=b)\n",
    "#Assignment Operators\n",
    "print(\"Assignment Operators\")\n",
    "c=50\n",
    "print(c)\n",
    "c+=10\n",
    "print(c)\n",
    "c-=20\n",
    "print(c)\n",
    "c*=2\n",
    "print(c)\n",
    "c%=3\n",
    "print(c)\n",
    "c**=2\n",
    "print(c)\n",
    "c//=2\n",
    "print(c)\n",
    "#Bitwise Operators\n",
    "print(\"Bitwise Operators\")\n",
    "x=3\n",
    "y=2\n",
    "print(a&b)\n",
    "print(a|b)\n",
    "print(a^b)\n",
    "print(~a)\n",
    "print(a<<b)\n",
    "print(a>>b)\n",
    "#Membership Operator\n",
    "print(\"MemberShip Operator\")\n",
    "li = [2,3,4,5,6]\n",
    "print(6 in li)\n",
    "print(8 not in li)\n",
    "print(\"Identity Operator\")\n",
    "m = 10\n",
    "n = 10\n",
    "o = m\n",
    "print(m is o)\n",
    "print(m is n)\n",
    "print(m is not n)\n",
    "print(m == n)"
   ]
  },
  {
   "cell_type": "code",
   "execution_count": 11,
   "metadata": {},
   "outputs": [
    {
     "name": "stdout",
     "output_type": "stream",
     "text": [
      "20\n"
     ]
    }
   ],
   "source": [
    "#Conditions In Python\n",
    "a = 10\n",
    "b = 20\n",
    "if a > b:\n",
    "    print(a)\n",
    "elif a == b:\n",
    "    print(a)\n",
    "else:\n",
    "    print(b)"
   ]
  },
  {
   "cell_type": "code",
   "execution_count": 15,
   "metadata": {},
   "outputs": [
    {
     "name": "stdout",
     "output_type": "stream",
     "text": [
      "1\n",
      "2\n",
      "3\n",
      "4\n",
      "5\n",
      "6\n",
      "7\n",
      "8\n",
      "9\n",
      "10\n",
      "2\n",
      "4\n",
      "6\n",
      "8\n",
      "10\n",
      "12\n",
      "14\n",
      "16\n",
      "18\n",
      "20\n",
      "Hello\n",
      "Hello\n"
     ]
    }
   ],
   "source": [
    "#Loops In Python\n",
    "#For loop using Sequence\n",
    "number = [1,2,3,4,5,6,7,8,9,10]\n",
    "for i in number:\n",
    "    print(i)\n",
    "#Using Range Function\n",
    "for i in range(1,11):\n",
    "    print(i*2)\n",
    "#While Loop\n",
    "count = 0\n",
    "while count < 2:\n",
    "    print(\"Hello\")\n",
    "    count+=1\n",
    "    "
   ]
  },
  {
   "cell_type": "code",
   "execution_count": 18,
   "metadata": {},
   "outputs": [
    {
     "name": "stdout",
     "output_type": "stream",
     "text": [
      "This is first String\n",
      "This is second String\n",
      "This is \"Third\" String\n",
      "This is multiline String\n",
      "This is Documented String \n"
     ]
    }
   ],
   "source": [
    "#Strings\n",
    "str1 = \"This is first String\"\n",
    "str2 = 'This is second String'\n",
    "str3 = 'This is \"Third\" String'\n",
    "str4 = \"This is\\\n",
    " multiline String\"\n",
    "str5 = '''This is Documented String '''\n",
    "print(str1)\n",
    "print(str2)\n",
    "print(str3)\n",
    "print(str4)\n",
    "print(str5)"
   ]
  },
  {
   "cell_type": "code",
   "execution_count": 19,
   "metadata": {},
   "outputs": [
    {
     "name": "stdout",
     "output_type": "stream",
     "text": [
      "H\n",
      "Hello World\n",
      "Hello\n",
      "el\n",
      "d\n",
      "Hello Wor\n",
      "dlroW olleH\n",
      "orld\n"
     ]
    }
   ],
   "source": [
    "#String Slicing\n",
    "str = \"Hello World\"\n",
    "print(str[0])\n",
    "print(str[:])\n",
    "print(str[:5])\n",
    "print(str[1:3])\n",
    "print(str[-1])\n",
    "print(str[:-2])\n",
    "print(str[::-1])\n",
    "print(str[-4:])"
   ]
  },
  {
   "cell_type": "code",
   "execution_count": 21,
   "metadata": {},
   "outputs": [
    {
     "name": "stdout",
     "output_type": "stream",
     "text": [
      "Hello \"World\n",
      "Python and Java are Strong Languages\n"
     ]
    }
   ],
   "source": [
    "#String Formatting\n",
    "str = \"Hello \\\"World\"\n",
    "print(str)\n",
    "#Format Method\n",
    "print(\"{} and {} are Strong Languages\".format(\"Python\",\"Java\"))"
   ]
  },
  {
   "cell_type": "code",
   "execution_count": 4,
   "metadata": {},
   "outputs": [
    {
     "name": "stdout",
     "output_type": "stream",
     "text": [
      "[1, 2, 3, 4, 5, 6]\n",
      "['Ashish', 101, 2.05, 'c']\n",
      "<class 'list'> <class 'list'>\n",
      " Name is Ashish and Number is 101 and float is 2.05 and character is c\n"
     ]
    }
   ],
   "source": [
    "#List \n",
    "list1 = [1,2,3,4,5,6]\n",
    "list2 = [\"Ashish\", 101, 2.05, 'c']\n",
    "print(list1)\n",
    "print(list2)\n",
    "print(type(list1),type(list2))\n",
    "print(\" Name is %s and Number is %d and float is %.2f and character is %c\"%(list2[0],list2[1],list2[2],list2[3]))\n"
   ]
  },
  {
   "cell_type": "code",
   "execution_count": 11,
   "metadata": {},
   "outputs": [
    {
     "name": "stdout",
     "output_type": "stream",
     "text": [
      "[1, 2, 3, 4, 5, 6, 7, 8, 9, 10]\n",
      "[2, 3, 4, 5, 6, 7, 8, 9, 10]\n",
      "[1, 2, 3, 4, 5, 6, 7, 8, 9]\n",
      "[10, 9, 8, 7, 6, 5, 4, 3, 2, 1]\n",
      "[8, 9, 10]\n"
     ]
    }
   ],
   "source": [
    "#List Slicing \n",
    "#list_variable(start:end:step)\n",
    "list1 = [1,2,3,4,5,6,7,8,9,10]\n",
    "print(list1[:])\n",
    "print(list1[1:])\n",
    "print(list1[:-1])\n",
    "print(list1[::-1])\n",
    "print(list1[-3:])\n",
    "\n"
   ]
  },
  {
   "cell_type": "code",
   "execution_count": 1,
   "metadata": {},
   "outputs": [
    {
     "name": "stdout",
     "output_type": "stream",
     "text": [
      "[1, 1, 1, 1, 1]\n",
      "[1, 2, 3, 4, 5, 1, 2, 3, 4, 5]\n",
      "[1, 2, 3, 4, 5, 1, 2, 3, 4, 5, 1, 2, 3, 4, 5]\n",
      "15\n",
      "Ashish\n",
      "Rahul\n",
      "Vijay\n",
      "['Ashish', 'Rahul', 'Vijay', 'Mark']\n",
      "['Ashish', 'Rahul', 'Mark']\n",
      "6\n",
      "1\n"
     ]
    }
   ],
   "source": [
    "li = [1] * 5\n",
    "list1 = [1,2,3,4,5]\n",
    "list2 = list1 * 2\n",
    "list3 = list1 + list2\n",
    "name = [\"Ashish\", \"Rahul\", \"Vijay\"]\n",
    "print(li)\n",
    "print(list2)\n",
    "print(list3)\n",
    "print(len(list3))\n",
    "for i in name:\n",
    "    print(i)\n",
    "name.append(\"Mark\")\n",
    "print(name)\n",
    "name.remove(\"Vijay\")\n",
    "print(name)\n",
    "list1[1] = 6\n",
    "print(max(list1))\n",
    "print(min(list1))"
   ]
  },
  {
   "cell_type": "code",
   "execution_count": 9,
   "metadata": {},
   "outputs": [
    {
     "name": "stdout",
     "output_type": "stream",
     "text": [
      "()\n",
      "('Ashish', 1, 2, ('Hello', 'p'))\n",
      "Hello\n",
      "('hello', 1, [9, 8, 7, 6, 5])\n",
      "Tuple Is Immutable\n",
      "4\n",
      "4\n"
     ]
    }
   ],
   "source": [
    "#Tuples\n",
    "tup1 = ()\n",
    "print(tup1)\n",
    "tup2 = (\"Ashish\",1 ,2, (\"Hello\", 'p'))\n",
    "print(tup2)\n",
    "print(tup2[3][0])\n",
    "tup3 = \"hello\", 1 , [9,8,7,6,5]\n",
    "print(tup3)\n",
    "try:\n",
    "    tup2[0] = \"Name\"\n",
    "except:\n",
    "    print(\"Tuple Is Immutable\")\n",
    "#Methods\n",
    "tup4 =  1,2,2,3,6,5,2,2,4,8\n",
    "print(tup4.count(2))\n",
    "print(tup4.index(6))"
   ]
  }
 ],
 "metadata": {
  "kernelspec": {
   "display_name": "Python 3",
   "language": "python",
   "name": "python3"
  },
  "language_info": {
   "codemirror_mode": {
    "name": "ipython",
    "version": 3
   },
   "file_extension": ".py",
   "mimetype": "text/x-python",
   "name": "python",
   "nbconvert_exporter": "python",
   "pygments_lexer": "ipython3",
   "version": "3.11.2"
  }
 },
 "nbformat": 4,
 "nbformat_minor": 2
}
