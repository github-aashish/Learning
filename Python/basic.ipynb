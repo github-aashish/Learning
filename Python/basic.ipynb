{
 "cells": [
  {
   "cell_type": "code",
   "execution_count": 2,
   "metadata": {},
   "outputs": [
    {
     "name": "stdout",
     "output_type": "stream",
     "text": [
      "10\n",
      "5\n",
      "105\n",
      "Value of a is 10 and b is 5\n"
     ]
    }
   ],
   "source": [
    "#Variable Declaration and Initialization\n",
    "a=10\n",
    "b=5\n",
    "print(a)\n",
    "print(b)\n",
    "#In a Single Line\n",
    "print(a, end=\"\")\n",
    "print(b)\n",
    "#Formatted Way\n",
    "print(f'Value of a is {a} and b is {b}')"
   ]
  },
  {
   "cell_type": "code",
   "execution_count": 4,
   "metadata": {},
   "outputs": [
    {
     "name": "stdout",
     "output_type": "stream",
     "text": [
      "<class 'int'>\n",
      "<class 'float'>\n",
      "<class 'complex'>\n",
      "<class 'str'>\n",
      "<class 'str'>\n",
      "<class 'list'>\n",
      "<class 'tuple'>\n",
      "<class 'dict'>\n",
      "<class 'bool'>\n",
      "<class 'set'>\n"
     ]
    }
   ],
   "source": [
    "#Data Types\n",
    "#Numbers\n",
    "a=100\n",
    "f = 1.2\n",
    "c = 1+2.2j\n",
    "#Sequence\n",
    "name = 'Ashish'\n",
    "sname = \"Chaudhary\"\n",
    "li = [\"Hi\",2,2.5]\n",
    "tu = (\"Hello\",5)\n",
    "dict = {1:\"Python\",2:\"Java\"}\n",
    "#Boolean\n",
    "bool = True\n",
    "#Set\n",
    "set1 = {2,'Ashish',5}\n",
    "print(type(a))\n",
    "print(type(f))\n",
    "print(type(c))\n",
    "print(type(name))\n",
    "print(type(sname))\n",
    "print(type(li))\n",
    "print(type(tu))\n",
    "print(type(dict))\n",
    "print(type(bool))\n",
    "print(type(set1))"
   ]
  },
  {
   "cell_type": "code",
   "execution_count": null,
   "metadata": {},
   "outputs": [],
   "source": []
  }
 ],
 "metadata": {
  "kernelspec": {
   "display_name": "Python 3",
   "language": "python",
   "name": "python3"
  },
  "language_info": {
   "codemirror_mode": {
    "name": "ipython",
    "version": 3
   },
   "file_extension": ".py",
   "mimetype": "text/x-python",
   "name": "python",
   "nbconvert_exporter": "python",
   "pygments_lexer": "ipython3",
   "version": "3.11.2"
  }
 },
 "nbformat": 4,
 "nbformat_minor": 2
}
