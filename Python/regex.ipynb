{
 "cells": [
  {
   "cell_type": "code",
   "execution_count": 3,
   "metadata": {},
   "outputs": [
    {
     "name": "stdout",
     "output_type": "stream",
     "text": [
      "True\n",
      "True\n",
      "False\n"
     ]
    }
   ],
   "source": [
    "#A RegEx, or Regular Expression, is a sequence of characters that forms a search pattern.\n",
    "#RegEx can be used to check if a string contains the specified search pattern.\n",
    "import re\n",
    "text = \"This python notebook contains regular expressions\"\n",
    "isTrue = re.search(\"^This.*expressions$\",text) # ^ --> This tells that expression starts with and $ --> this tells that expression ends with\n",
    "isTrue2 = re.search(\"^This.*ssions$\",text)\n",
    "isTrue3 = re.search(\"^python.*notebook$\",text)\n",
    "if(isTrue):\n",
    "    print(\"True\")\n",
    "else:\n",
    "    print(\"False\")\n",
    "if(isTrue2):\n",
    "    print(\"True\")\n",
    "else:\n",
    "    print(\"False\")\n",
    "if(isTrue3):\n",
    "    print(\"True\")\n",
    "else:\n",
    "    print(\"False\")\n",
    "\n"
   ]
  },
  {
   "cell_type": "code",
   "execution_count": null,
   "metadata": {},
   "outputs": [],
   "source": []
  }
 ],
 "metadata": {
  "kernelspec": {
   "display_name": "Python 3",
   "language": "python",
   "name": "python3"
  },
  "language_info": {
   "codemirror_mode": {
    "name": "ipython",
    "version": 3
   },
   "file_extension": ".py",
   "mimetype": "text/x-python",
   "name": "python",
   "nbconvert_exporter": "python",
   "pygments_lexer": "ipython3",
   "version": "3.11.2"
  }
 },
 "nbformat": 4,
 "nbformat_minor": 2
}
