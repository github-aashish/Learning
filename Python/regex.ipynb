{
 "cells": [
  {
   "cell_type": "code",
   "execution_count": 3,
   "metadata": {},
   "outputs": [
    {
     "name": "stdout",
     "output_type": "stream",
     "text": [
      "True\n",
      "True\n",
      "False\n"
     ]
    }
   ],
   "source": [
    "#A RegEx, or Regular Expression, is a sequence of characters that forms a search pattern.\n",
    "#RegEx can be used to check if a string contains the specified search pattern.\n",
    "import re\n",
    "text = \"This python notebook contains regular expressions\"\n",
    "isTrue = re.search(\"^This.*expressions$\",text) # ^ --> This tells that expression starts with and $ --> this tells that expression ends with\n",
    "isTrue2 = re.search(\"^This.*ssions$\",text)\n",
    "isTrue3 = re.search(\"^python.*notebook$\",text)\n",
    "if(isTrue):\n",
    "    print(\"True\")\n",
    "else:\n",
    "    print(\"False\")\n",
    "if(isTrue2):\n",
    "    print(\"True\")\n",
    "else:\n",
    "    print(\"False\")\n",
    "if(isTrue3):\n",
    "    print(\"True\")\n",
    "else:\n",
    "    print(\"False\")\n",
    "\n"
   ]
  },
  {
   "cell_type": "code",
   "execution_count": 3,
   "metadata": {},
   "outputs": [
    {
     "name": "stdout",
     "output_type": "stream",
     "text": [
      "true\n",
      "false\n"
     ]
    }
   ],
   "source": [
    "#Some expressions\n",
    "#dd-mm-yyyy\n",
    "import re\n",
    "expression = \"^(0[1-9]|[1-2][0-9]|3[0-1])-(0[1-9]|1[0-2])-\\d{4}$\"\n",
    "match1 = re.match(expression,\"12-10-2002\")\n",
    "match2 = re.match(expression,\"01-21-2014\")\n",
    "if match1:\n",
    "    print(\"true\")\n",
    "else:\n",
    "    print(\"false\")\n",
    "if match2:\n",
    "    print(\"true\")\n",
    "else:\n",
    "    print(\"false\")"
   ]
  },
  {
   "cell_type": "code",
   "execution_count": 4,
   "metadata": {},
   "outputs": [
    {
     "name": "stdout",
     "output_type": "stream",
     "text": [
      "true\n",
      "false\n"
     ]
    }
   ],
   "source": [
    "#expression for email address\n",
    "import re\n",
    "expression = \"^([a-zA-Z0-9_\\-\\.]+)@([a-zA-Z0-9_\\-\\.]+)\\.([a-zA-Z]{2,5})$\"\n",
    "match1  =re.match(expression,\"ashish@gmail.com\")\n",
    "match2 = re.match(expression,\"ashish21gmail.google.com\")\n",
    "if match1:\n",
    "    print(\"true\")\n",
    "else:\n",
    "    print(\"false\")\n",
    "if match2:\n",
    "    print(\"true\")\n",
    "else:\n",
    "    print(\"false\")"
   ]
  }
 ],
 "metadata": {
  "kernelspec": {
   "display_name": "Python 3",
   "language": "python",
   "name": "python3"
  },
  "language_info": {
   "codemirror_mode": {
    "name": "ipython",
    "version": 3
   },
   "file_extension": ".py",
   "mimetype": "text/x-python",
   "name": "python",
   "nbconvert_exporter": "python",
   "pygments_lexer": "ipython3",
   "version": "3.11.2"
  }
 },
 "nbformat": 4,
 "nbformat_minor": 2
}
